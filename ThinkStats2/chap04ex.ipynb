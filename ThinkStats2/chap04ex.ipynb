{
 "cells": [
  {
   "cell_type": "markdown",
   "metadata": {},
   "source": [
    "Exercise from Think Stats, 2nd Edition (thinkstats2.com)<br>\n",
    "Allen Downey\n",
    "\n",
    "Read the pregnancy file."
   ]
  },
  {
   "cell_type": "code",
   "execution_count": 1,
   "metadata": {
    "collapsed": false
   },
   "outputs": [
    {
     "name": "stderr",
     "output_type": "stream",
     "text": [
      "/home/jsutker/anaconda2/lib/python2.7/site-packages/matplotlib/font_manager.py:273: UserWarning: Matplotlib is building the font cache using fc-list. This may take a moment.\n",
      "  warnings.warn('Matplotlib is building the font cache using fc-list. This may take a moment.')\n"
     ]
    }
   ],
   "source": [
    "%matplotlib inline\n",
    "\n",
    "import nsfg\n",
    "preg = nsfg.ReadFemPreg()"
   ]
  },
  {
   "cell_type": "markdown",
   "metadata": {},
   "source": [
    "Select live births, then make a CDF of <tt>totalwgt_lb</tt>. "
   ]
  },
  {
   "cell_type": "code",
   "execution_count": 2,
   "metadata": {
    "collapsed": false
   },
   "outputs": [],
   "source": [
    "import thinkstats2\n",
    "cdf = thinkstats2.Cdf(preg[preg.nbrnaliv < 9][\"totalwgt_lb\"].dropna())"
   ]
  },
  {
   "cell_type": "markdown",
   "metadata": {},
   "source": [
    "Display the CDF."
   ]
  },
  {
   "cell_type": "code",
   "execution_count": 3,
   "metadata": {
    "collapsed": false
   },
   "outputs": [
    {
     "name": "stderr",
     "output_type": "stream",
     "text": [
      "/home/jsutker/anaconda2/lib/python2.7/site-packages/matplotlib/axes/_axes.py:519: UserWarning: No labelled objects found. Use label='...' kwarg on individual plots.\n",
      "  warnings.warn(\"No labelled objects found. \"\n"
     ]
    },
    {
     "data": {
      "image/png": "[encoded data removed]",
      "text/plain": [
       "<matplotlib.figure.Figure at 0x7f4b581bbe10>"
      ]
     },
     "metadata": {},
     "output_type": "display_data"
    },
    {
     "data": {
      "text/plain": [
       "<matplotlib.figure.Figure at 0x7f4b581bbd10>"
      ]
     },
     "metadata": {},
     "output_type": "display_data"
    }
   ],
   "source": [
    "import thinkplot\n",
    "thinkplot.Cdf(cdf, label='')\n",
    "thinkplot.Show(xlabel='weight (lb)', ylabel='CDF')"
   ]
  },
  {
   "cell_type": "markdown",
   "metadata": {},
   "source": [
    "Find out how much you weighed at birth, if you can, and compute CDF(x). "
   ]
  },
  {
   "cell_type": "code",
   "execution_count": 4,
   "metadata": {
    "collapsed": false
   },
   "outputs": [
    {
     "data": {
      "text/plain": [
       "0.7989599468909051"
      ]
     },
     "execution_count": 4,
     "metadata": {},
     "output_type": "execute_result"
    }
   ],
   "source": [
    "cdf.Prob(8.3125)"
   ]
  },
  {
   "cell_type": "markdown",
   "metadata": {},
   "source": [
    "If you are a first child, look up your birthweight in the CDF of first children; otherwise use the CDF of other children."
   ]
  },
  {
   "cell_type": "code",
   "execution_count": 5,
   "metadata": {
    "collapsed": false
   },
   "outputs": [
    {
     "name": "stderr",
     "output_type": "stream",
     "text": [
      "/home/jsutker/anaconda2/lib/python2.7/site-packages/pandas/core/frame.py:1997: UserWarning: Boolean Series key will be reindexed to match DataFrame index.\n",
      "  \"DataFrame index.\", UserWarning)\n"
     ]
    },
    {
     "data": {
      "text/plain": [
       "0.78792650918635165"
      ]
     },
     "execution_count": 5,
     "metadata": {},
     "output_type": "execute_result"
    }
   ],
   "source": [
    "cdf_notfirst = thinkstats2.Cdf(preg[preg.nbrnaliv < 9][preg.pregordr > 1][\"totalwgt_lb\"].dropna())\n",
    "cdf_notfirst.Prob(8.3125)"
   ]
  },
  {
   "cell_type": "markdown",
   "metadata": {},
   "source": [
    "Compute the percentile rank of your birthweight"
   ]
  },
  {
   "cell_type": "code",
   "execution_count": 6,
   "metadata": {
    "collapsed": false
   },
   "outputs": [
    {
     "name": "stdout",
     "output_type": "stream",
     "text": [
      "My percentile: 79.895995\n"
     ]
    }
   ],
   "source": [
    "print \"My percentile: %f\" % cdf.PercentileRank(8.3125)"
   ]
  },
  {
   "cell_type": "markdown",
   "metadata": {},
   "source": [
    "Compute the median birth weight by looking up the value associated with p=0.5."
   ]
  },
  {
   "cell_type": "code",
   "execution_count": 7,
   "metadata": {
    "collapsed": false
   },
   "outputs": [
    {
     "name": "stdout",
     "output_type": "stream",
     "text": [
      "50th percentile weight: 7.375000 lb\n"
     ]
    }
   ],
   "source": [
    "print \"50th percentile weight: %f lb\" % cdf.Percentile(50)"
   ]
  },
  {
   "cell_type": "markdown",
   "metadata": {},
   "source": [
    "Compute the interquartile range (IQR) by computing percentiles corresponding to 25 and 75. "
   ]
  },
  {
   "cell_type": "code",
   "execution_count": 8,
   "metadata": {
    "collapsed": false
   },
   "outputs": [
    {
     "name": "stdout",
     "output_type": "stream",
     "text": [
      "25th percentile weight: 6.500000 lb\n",
      "75th percentile weight: 8.125000 lb\n"
     ]
    }
   ],
   "source": [
    "print \"25th percentile weight: %f lb\" % cdf.Percentile(25)\n",
    "print \"75th percentile weight: %f lb\" % cdf.Percentile(75)"
   ]
  },
  {
   "cell_type": "markdown",
   "metadata": {},
   "source": [
    "Make a random selection from <tt>cdf</tt>."
   ]
  },
  {
   "cell_type": "code",
   "execution_count": 9,
   "metadata": {
    "collapsed": false
   },
   "outputs": [
    {
     "name": "stdout",
     "output_type": "stream",
     "text": [
      "0.528324850631\n"
     ]
    }
   ],
   "source": [
    "import numpy as np\n",
    "print cdf.Prob(np.random.choice(preg[preg.nbrnaliv < 9][\"totalwgt_lb\"].dropna(), 1)[0])"
   ]
  },
  {
   "cell_type": "markdown",
   "metadata": {},
   "source": [
    "Draw a random sample from <tt>cdf</tt>."
   ]
  },
  {
   "cell_type": "code",
   "execution_count": 10,
   "metadata": {
    "collapsed": false
   },
   "outputs": [
    {
     "name": "stdout",
     "output_type": "stream",
     "text": [
      "[0.21066607656561187, 0.98406727152024787, 0.54414693516264656, 0.32595707014826292, 0.99026333259570698, 0.94412480637309137, 0.57756140739101569, 0.63266209338349189, 0.88426643062624477, 0.92487275946005754, 0.41668510732462932, 0.021907501659659216, 0.52832485063067047, 0.6083204248727595, 0.81422881168400085, 0.88426643062624477, 0.81422881168400085, 0.26344323965479088, 0.45707014826289, 0.44036291214870549, 0.025226820092940916, 0.4775392786014605, 0.1130781146271299, 0.7989599468909051, 0.73323744191192741, 0.59283027218411155, 0.92487275946005754, 0.24264217747289224, 0.44036291214870549, 0.69041823412259351, 0.053883602566939588, 0.27970789997787121, 0.7868997565833149, 0.63266209338349189, 0.76056649701261336, 0.6083204248727595, 0.0099579552998450976, 0.40185881832263776, 0.99922549236556757, 0.16629785350741313, 0.85439256472670944, 0.89477760566497011, 0.44036291214870549, 0.16629785350741313, 0.82628900199159105, 0.08873644611639743, 0.82628900199159105, 0.34277495021022353, 0.97455189201150694, 0.97687541491480412, 0.12358928966585528, 0.0036512502766098695, 0.30869661429519807, 0.45707014826289, 0.69041823412259351, 0.95496791325514496, 0.14461163974330604, 0.69041823412259351, 0.7989599468909051, 0.73323744191192741, 0.32595707014826292, 0.7868997565833149, 0.69041823412259351, 0.40185881832263776, 0.85439256472670944, 0.57756140739101569, 0.09692409825182563, 0.6083204248727595, 0.060411595485726929, 0.93383491922991813, 0.9605001106439478, 0.69041823412259351, 0.54414693516264656, 0.99955742420889582, 0.70391679575127242, 0.7868997565833149, 0.053883602566939588, 0.73323744191192741, 0.21066607656561187, 0.92487275946005754, 0.76056649701261336, 0.018145607435273291, 0.41668510732462932, 0.27970789997787121, 0.94412480637309137, 0.86634211108652359, 0.86634211108652359, 0.96824518698827178, 0.49679132551449434, 0.63266209338349189, 0.67138747510511176, 0.70391679575127242, 0.59283027218411155, 0.14461163974330604, 0.92487275946005754, 0.7989599468909051, 0.77362248285018809, 0.060411595485726929, 0.29331710555432616, 0.6083204248727595]\n"
     ]
    }
   ],
   "source": [
    "sample = np.random.choice(preg[preg.nbrnaliv < 9][\"totalwgt_lb\"].dropna(), 100, replace=True)\n",
    "print [cdf.Prob(x) for x in sample]"
   ]
  },
  {
   "cell_type": "markdown",
   "metadata": {},
   "source": [
    "Draw a random sample from <tt>cdf</tt>, then compute the percentile rank for each value, and plot the distribution of the percentile ranks."
   ]
  },
  {
   "cell_type": "code",
   "execution_count": 11,
   "metadata": {
    "collapsed": false
   },
   "outputs": [
    {
     "data": {
      "image/png": "[encoded data removed]",
      "text/plain": [
       "<matplotlib.figure.Figure at 0x7f4b57b41450>"
      ]
     },
     "metadata": {},
     "output_type": "display_data"
    },
    {
     "data": {
      "text/plain": [
       "<matplotlib.figure.Figure at 0x7f4b57cd3510>"
      ]
     },
     "metadata": {},
     "output_type": "display_data"
    }
   ],
   "source": [
    "sample = np.random.choice(preg[preg.nbrnaliv < 9][\"totalwgt_lb\"].dropna(), 100, replace=True)\n",
    "ranks = [cdf.PercentileRank(x) for x in sample]\n",
    "rank_cdf = thinkstats2.Cdf(ranks)\n",
    "thinkplot.Cdf(rank_cdf)\n",
    "thinkplot.Show(xlabel='percentile rank', ylabel='CDF')"
   ]
  },
  {
   "cell_type": "markdown",
   "metadata": {},
   "source": [
    "Generate 1000 random values using <tt>random.random()</tt> and plot their PMF."
   ]
  },
  {
   "cell_type": "code",
   "execution_count": 12,
   "metadata": {
    "collapsed": false
   },
   "outputs": [
    {
     "data": {
      "image/png": "[encoded data removed]",
      "text/plain": [
       "<matplotlib.figure.Figure at 0x7f4b57b6d650>"
      ]
     },
     "metadata": {},
     "output_type": "display_data"
    },
    {
     "data": {
      "text/plain": [
       "<matplotlib.figure.Figure at 0x7f4b57a33310>"
      ]
     },
     "metadata": {},
     "output_type": "display_data"
    }
   ],
   "source": [
    "import random\n",
    "rand_pmf = thinkstats2.Pmf([random.random() for i in range(1000)])\n",
    "thinkplot.Pmf(rand_pmf)\n",
    "thinkplot.Show()"
   ]
  },
  {
   "cell_type": "markdown",
   "metadata": {},
   "source": [
    "Assuming that the PMF doesn't work very well, try plotting the CDF instead."
   ]
  },
  {
   "cell_type": "code",
   "execution_count": 13,
   "metadata": {
    "collapsed": false
   },
   "outputs": [
    {
     "data": {
      "image/png": "[encoded data removed]",
      "text/plain": [
       "<matplotlib.figure.Figure at 0x7f4b88c20c10>"
      ]
     },
     "metadata": {},
     "output_type": "display_data"
    },
    {
     "data": {
      "text/plain": [
       "<matplotlib.figure.Figure at 0x7f4b57bda050>"
      ]
     },
     "metadata": {},
     "output_type": "display_data"
    }
   ],
   "source": [
    "rand_cdf = thinkstats2.Cdf([random.random() for i in range(1000)], label='')\n",
    "thinkplot.Cdf(rand_cdf)\n",
    "thinkplot.Show()"
   ]
  },
  {
   "cell_type": "markdown",
   "metadata": {
    "collapsed": false
   },
   "source": [
    "### Clarifying Questions\n",
    "\n",
    "Use this space to ask questions regarding the content covered in the reading. These questions should be restricted to helping you better understand the material. For questions that push beyond what is in the reading, use the next answer field. If you don't have a fully formed question, but are generally having a difficult time with a topic, you can indicate that here as well."
   ]
  },
  {
   "cell_type": "markdown",
   "metadata": {},
   "source": []
  },
  {
   "cell_type": "markdown",
   "metadata": {},
   "source": [
    "### Enrichment Questions\n",
    "\n",
    "Use this space to ask any questions that go beyond (but are related to) the material presented in this reading. Perhaps there is a particular topic you'd like to see covered in more depth. Perhaps you'd like to know how to use a library in a way that wasn't show in the reading. One way to think about this is what additional topics would you want covered in the next class (or addressed in a followup e-mail to the class). I'm a little fuzzy on what stuff will likely go here, so we'll see how things evolve."
   ]
  },
  {
   "cell_type": "markdown",
   "metadata": {},
   "source": []
  },
  {
   "cell_type": "markdown",
   "metadata": {},
   "source": [
    "### Additional Resources / Explorations\n",
    "\n",
    "If you found any useful resources, or tried some useful exercises that you'd like to report please do so here. Let us know what you did, what you learned, and how others can replicate it."
   ]
  },
  {
   "cell_type": "markdown",
   "metadata": {},
   "source": []
  }
 ],
 "metadata": {
  "kernelspec": {
   "display_name": "Python 2",
   "language": "python",
   "name": "python2"
  },
  "language_info": {
   "codemirror_mode": {
    "name": "ipython",
    "version": 2
   },
   "file_extension": ".py",
   "mimetype": "text/x-python",
   "name": "python",
   "nbconvert_exporter": "python",
   "pygments_lexer": "ipython2",
   "version": "2.7.11"
  }
 },
 "nbformat": 4,
 "nbformat_minor": 0
}
